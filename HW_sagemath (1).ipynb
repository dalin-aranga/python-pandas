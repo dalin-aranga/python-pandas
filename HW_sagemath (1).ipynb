{
 "cells": [
  {
   "cell_type": "markdown",
   "metadata": {},
   "source": [
    "# Problem 1"
   ]
  },
  {
   "cell_type": "code",
   "execution_count": 17,
   "metadata": {},
   "outputs": [],
   "source": [
    "import random\n",
    "def problem1(L,t,n):\n",
    "    # create list of p\n",
    "    p=[]\n",
    "\n",
    "    # random dice values\n",
    "    x = [1,2]\n",
    "    y= [3,4]\n",
    "    z =[5,6]\n",
    "\n",
    "    # each code include list\n",
    "    a = [x,y,z]\n",
    "\n",
    "    # area of L triangle\n",
    "    A = (L[0][0] * (L[1][1] - L[2][1])) + (L[1][0] * (L[2][1] - L[0][1])) + (L[2][0] * (L[0][1] - L[1][1]))\n",
    "\n",
    "    # selected point (t) areas\n",
    "    A1 = (L[0][0] * (L[1][1] - t[1])) + (L[1][0] * (t[1] - L[0][1])) + (t[0] * (L[0][1] - L[1][1]))\n",
    "    A2 = (L[1][0] * (L[2][1] - t[1])) + (L[1][0] * (t[1] - L[0][1])) + (t[0] * (L[0][1] - L[1][1]))\n",
    "    A3 = (L[0][0] * (L[1][1] - t[1])) + (L[1][0] * (t[1] - L[0][1])) + (t[0] * (L[0][1] - L[2][1]))\n",
    "\n",
    "    #check t point inside of outside from triangle\n",
    "    if A1 + A2 + A3 == A:\n",
    "        # itteration\n",
    "        for i in range(n):\n",
    "            s = random.choice(a)\n",
    "            # get new position\n",
    "            if s == [1, 2]:\n",
    "                x1 = [0, 0]\n",
    "                current_possition = (x1[1] + t[1]) / 2\n",
    "                new_postion = (t[0], current_possition)\n",
    "                p.append(new_postion)\n",
    "                i = i + 1\n",
    "\n",
    "            elif s == [3, 4]:\n",
    "                x2 = [20, 20]\n",
    "                current_possition = (x2[1] + t[1]) / 2\n",
    "                new_postion = (t[0], current_possition)\n",
    "                p.append(new_postion)\n",
    "                i = i + 1\n",
    "\n",
    "            else:\n",
    "                x3 = [40, 0]\n",
    "                current_possition = (x3[1] + t[1]) / 2\n",
    "                new_postion = (t[0], current_possition)\n",
    "                p.append(new_postion)\n",
    "                i = i + 1\n",
    "        # plot the p value in 2d plane\n",
    "        pt = point(p, color='red', size=10)\n",
    "        plot(pt).show()\n",
    "\n",
    "    else:\n",
    "        print('The point is outside the triangle.')"
   ]
  },
  {
   "cell_type": "code",
   "execution_count": 18,
   "metadata": {},
   "outputs": [
    {
     "data": {
      "image/png": "[encoded data removed]",
      "text/plain": [
       "Graphics object consisting of 1 graphics primitive"
      ]
     },
     "metadata": {},
     "output_type": "display_data"
    }
   ],
   "source": [
    "problem1([(0, 0), (10, 0), (5, 10)],(4,2),10)"
   ]
  },
  {
   "cell_type": "markdown",
   "metadata": {},
   "source": [
    "# Problem 2"
   ]
  },
  {
   "cell_type": "code",
   "execution_count": 1,
   "metadata": {},
   "outputs": [],
   "source": [
    "w,x,y,z,L1,L2 = SR.var('w, x, y, z, L1, L2')\n",
    "def problem2(f,G1,G2):\n",
    "    fg = f.gradient() \n",
    "    sG1 = str(G1)\n",
    "    sG2 = str(G2)\n",
    "    g1 = SR(sG1[0:len(sG1)-5])\n",
    "    g2 = SR(sG2[0:len(sG2)-5])\n",
    "    gg1 = g1.gradient()\n",
    "    gg2 = g2.gradient()\n",
    "\n",
    "    sol=solve([fg[0]==L1*gg1[0], fg[1]==L1*gg1[1]+L2*gg2[0], fg[2]==L1*gg1[2]+L2*gg2[1], fg[3]==L1*gg1[3]+L2*gg2[2], G1, G2],(w,x,y,z,L1,L2))\n",
    "    ff=[]\n",
    "    \n",
    "    for s in sol:\n",
    "        ff.append(f.substitute(s))\n",
    "        \n",
    "    return RR(max(ff))"
   ]
  },
  {
   "cell_type": "code",
   "execution_count": 2,
   "metadata": {},
   "outputs": [
    {
     "data": {
      "text/plain": [
       "46.9090909090909"
      ]
     },
     "execution_count": 2,
     "metadata": {},
     "output_type": "execute_result"
    }
   ],
   "source": [
    "problem2(4*x+4*y+9*z-2*w, 2*x+2*y+z+w==0, x^2+y^2+z-4==0)"
   ]
  },
  {
   "cell_type": "code",
   "execution_count": 3,
   "metadata": {},
   "outputs": [
    {
     "data": {
      "text/plain": [
       "5.47722557505166"
      ]
     },
     "execution_count": 3,
     "metadata": {},
     "output_type": "execute_result"
    }
   ],
   "source": [
    "problem2(x-y+2*z+2*w, x+y+z+w==0, x^2+y^2+z^2-3==0)"
   ]
  },
  {
   "cell_type": "markdown",
   "metadata": {},
   "source": [
    "# Problem 3"
   ]
  },
  {
   "cell_type": "code",
   "execution_count": 4,
   "metadata": {},
   "outputs": [],
   "source": [
    "def problem3(A):\n",
    "    n=len(A)\n",
    "    crs=0\n",
    "    for i in range(0,n):\n",
    "        for j in range(i+1,n):\n",
    "            if A.index(j)<A.index(i):\n",
    "                crs+=1\n",
    "    \n",
    "    return crs"
   ]
  },
  {
   "cell_type": "code",
   "execution_count": 5,
   "metadata": {},
   "outputs": [
    {
     "data": {
      "text/plain": [
       "17"
      ]
     },
     "execution_count": 5,
     "metadata": {},
     "output_type": "execute_result"
    }
   ],
   "source": [
    "problem3([3,0,9,4,2,6,1,8,5,7])"
   ]
  },
  {
   "cell_type": "code",
   "execution_count": 6,
   "metadata": {},
   "outputs": [
    {
     "data": {
      "text/plain": [
       "97"
      ]
     },
     "execution_count": 6,
     "metadata": {},
     "output_type": "execute_result"
    }
   ],
   "source": [
    "problem3([10,3,13,19,0,11,9,20,4,16,2,12,6,1,14,15,8,5,17,18,7])"
   ]
  },
  {
   "cell_type": "markdown",
   "metadata": {},
   "source": [
    "# Problem 4"
   ]
  },
  {
   "cell_type": "code",
   "execution_count": 11,
   "metadata": {},
   "outputs": [],
   "source": [
    "R.<x,y> = PolynomialRing(QQ)\n",
    "def problem4(ff):\n",
    "    E = ff.exponents()\n",
    "    n=len(E)\n",
    "    nx=0\n",
    "    ny=0\n",
    "    for exp in E:\n",
    "        nx = exp[0]+nx\n",
    "        ny = exp[1]+ny\n",
    "\n",
    "    cx = nx/n\n",
    "    cy = ny/n\n",
    "\n",
    "    d=[];\n",
    "\n",
    "    for exp in E:\n",
    "        dt=(exp[0]-cx)**2+(exp[1]-cy)**2\n",
    "        d.append(dt)\n",
    "\n",
    "    imax = d.index(max(d))    \n",
    "    imin = d.index(min(d))\n",
    "\n",
    "    return (E[imax], math.sqrt(d[imax]), E[imin], math.sqrt(d[imin]))"
   ]
  },
  {
   "cell_type": "code",
   "execution_count": 12,
   "metadata": {},
   "outputs": [
    {
     "data": {
      "text/plain": [
       "((9, 1), 6.423742118883459, (3, 5), 1.1244833524411801)"
      ]
     },
     "execution_count": 12,
     "metadata": {},
     "output_type": "execute_result"
    }
   ],
   "source": [
    "problem4(x^9*y + x^6*y^4 + x^5*y^5 + x^4*y^6 - x^3*y^6 + x^2*y^7 - x^3*y^5 + x^2*y^5 - y^3 - x*y -x)"
   ]
  },
  {
   "cell_type": "code",
   "execution_count": 13,
   "metadata": {},
   "outputs": [
    {
     "data": {
      "text/plain": [
       "((19, 1), 12.310344827586206, (9, 7), 0.8865489746332718)"
      ]
     },
     "execution_count": 13,
     "metadata": {},
     "output_type": "execute_result"
    }
   ],
   "source": [
    "problem4(-2*x^19*y - 2*x^14*y^6 - x^4*y^16 - 9*x^17*y^2 - x^15*y^4 + 7*x^10*y^9 + 7*x^6*y^13 \\\n",
    "- x^12*y^6 - 2*x^9*y^9+ 9*x^8*y^10 + 9*x^5*y^13 - x^15*y^2 - x^6*y^11 - 12*x^3*y^14 - 3*x^9*y^7 \\\n",
    "- 7*x^7*y^9 + x^5*y^11+ 2*x*y^14 + 5*x^13*y + x^10*y^3+ 2*x^6*y^7 + x^12 + x^11*y - x^3*y^8 \\\n",
    "- 3*x^3*y^6 - 2*x^6*y^2 - x^5*y^3 + x*y^6 - x*y^3)"
   ]
  },
  {
   "cell_type": "code",
   "execution_count": null,
   "metadata": {},
   "outputs": [],
   "source": []
  }
 ],
 "metadata": {
  "kernelspec": {
   "display_name": "SageMath 8.4",
   "language": "",
   "name": "sagemath"
  },
  "language_info": {
   "codemirror_mode": {
    "name": "ipython",
    "version": 2
   },
   "file_extension": ".py",
   "mimetype": "text/x-python",
   "name": "python",
   "nbconvert_exporter": "python",
   "pygments_lexer": "ipython2",
   "version": "2.7.15"
  }
 },
 "nbformat": 4,
 "nbformat_minor": 2
}
